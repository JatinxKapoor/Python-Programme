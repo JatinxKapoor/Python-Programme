{
 "cells": [
  {
   "cell_type": "code",
   "execution_count": 1,
   "id": "d28c9977-f44b-4d16-9ce6-7cd8ad563d07",
   "metadata": {},
   "outputs": [
    {
     "name": "stdout",
     "output_type": "stream",
     "text": [
      "4\n"
     ]
    }
   ],
   "source": [
    "L3=(1,2,3,4,5)\n",
    "print(L3[3])"
   ]
  },
  {
   "cell_type": "code",
   "execution_count": 2,
   "id": "8642692d-da66-4f70-8238-eaf497ebcc0c",
   "metadata": {},
   "outputs": [
    {
     "name": "stdout",
     "output_type": "stream",
     "text": [
      "(2, 2, 3, 4, 5)\n"
     ]
    }
   ],
   "source": [
    "L3=(1,2,2,3,4,5,5,6,7)\n",
    "print(L3[1:6])"
   ]
  },
  {
   "cell_type": "code",
   "execution_count": 3,
   "id": "9e447120-a0c0-4fc1-9458-ab6e483348f1",
   "metadata": {},
   "outputs": [
    {
     "name": "stdout",
     "output_type": "stream",
     "text": [
      "('B', 'C', 'D', 'E')\n"
     ]
    }
   ],
   "source": [
    "L4=('A','B','C','D','E')\n",
    "print(L4[-4:])"
   ]
  },
  {
   "cell_type": "code",
   "execution_count": 4,
   "id": "bb35e628-a518-4909-9173-69999acbf784",
   "metadata": {},
   "outputs": [
    {
     "name": "stdout",
     "output_type": "stream",
     "text": [
      "<class 'tuple'>\n"
     ]
    }
   ],
   "source": [
    "x=('a','b','c','d','e')\n",
    "print(type(x))"
   ]
  },
  {
   "cell_type": "code",
   "execution_count": 5,
   "id": "17bab308-9808-4b0c-a91d-6e796903371e",
   "metadata": {},
   "outputs": [
    {
     "name": "stdout",
     "output_type": "stream",
     "text": [
      "<class 'list'>\n"
     ]
    }
   ],
   "source": [
    "y=list(x)\n",
    "print(type(y))"
   ]
  },
  {
   "cell_type": "code",
   "execution_count": 6,
   "id": "dce475ed-f57c-49a3-a804-045c0fe6f323",
   "metadata": {},
   "outputs": [],
   "source": [
    "y[2]='Cherry'"
   ]
  },
  {
   "cell_type": "code",
   "execution_count": 7,
   "id": "de07a043-ca7d-45d4-8215-0d15ebdd9cf1",
   "metadata": {},
   "outputs": [
    {
     "name": "stdout",
     "output_type": "stream",
     "text": [
      "['a', 'b', 'Cherry', 'd', 'e']\n"
     ]
    }
   ],
   "source": [
    "print(y)"
   ]
  },
  {
   "cell_type": "code",
   "execution_count": 8,
   "id": "e2af0b9e-11da-4d11-b156-167d38a0cafb",
   "metadata": {},
   "outputs": [],
   "source": [
    "x=tuple(y)"
   ]
  },
  {
   "cell_type": "code",
   "execution_count": 9,
   "id": "7072d4ff-deb9-437b-8cdf-dc2be10edacd",
   "metadata": {},
   "outputs": [
    {
     "name": "stdout",
     "output_type": "stream",
     "text": [
      "('a', 'b', 'Cherry', 'd', 'e')\n"
     ]
    }
   ],
   "source": [
    "print(x)"
   ]
  },
  {
   "cell_type": "code",
   "execution_count": null,
   "id": "464ee225-a1bf-4b85-9cf9-a84899e45e68",
   "metadata": {},
   "outputs": [],
   "source": []
  }
 ],
 "metadata": {
  "kernelspec": {
   "display_name": "Python 3 (ipykernel)",
   "language": "python",
   "name": "python3"
  },
  "language_info": {
   "codemirror_mode": {
    "name": "ipython",
    "version": 3
   },
   "file_extension": ".py",
   "mimetype": "text/x-python",
   "name": "python",
   "nbconvert_exporter": "python",
   "pygments_lexer": "ipython3",
   "version": "3.12.4"
  }
 },
 "nbformat": 4,
 "nbformat_minor": 5
}
