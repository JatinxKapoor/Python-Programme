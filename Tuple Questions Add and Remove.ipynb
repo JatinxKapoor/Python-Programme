{
 "cells": [
  {
   "cell_type": "code",
   "execution_count": 1,
   "id": "32ec8d4b-349d-4145-adaf-fad675e1f26e",
   "metadata": {},
   "outputs": [
    {
     "name": "stdout",
     "output_type": "stream",
     "text": [
      "[1, 2, 3, 4, 5, 6, 7, 8, 9]\n"
     ]
    }
   ],
   "source": [
    "L1=(1,2,3,4,5,6,7,8)\n",
    "y=list(L1)\n",
    "y.append(9)\n",
    "print(y)"
   ]
  },
  {
   "cell_type": "code",
   "execution_count": 3,
   "id": "affb3ef3-466c-4beb-b265-e0106501dacd",
   "metadata": {},
   "outputs": [
    {
     "name": "stdout",
     "output_type": "stream",
     "text": [
      "(1, 2, 3, 4, 5, 6, 7, 8, 9)\n"
     ]
    }
   ],
   "source": [
    "L1=tuple(y)\n",
    "print(L1)"
   ]
  },
  {
   "cell_type": "code",
   "execution_count": 5,
   "id": "930c9478-b06c-4ef4-8cc9-322048901b5a",
   "metadata": {},
   "outputs": [
    {
     "name": "stdout",
     "output_type": "stream",
     "text": [
      "(1, 2, 3, 4, 6, 7, 8)\n"
     ]
    }
   ],
   "source": [
    "L2=(1,2,3,4,5,6,7,8)\n",
    "y=list(L2)\n",
    "y.remove(5)\n",
    "L2=tuple(y)\n",
    "print(L2)"
   ]
  },
  {
   "cell_type": "code",
   "execution_count": 7,
   "id": "72d5b7c3-d45b-4d36-8487-f0c7ffe12bbf",
   "metadata": {},
   "outputs": [
    {
     "name": "stdout",
     "output_type": "stream",
     "text": [
      "(1, 2, 3, 4, 5, 6, 7, 8, 9, 10)\n"
     ]
    }
   ],
   "source": [
    "L3=(1,2,3,4,5,6,7,8)\n",
    "y=(9,10)\n",
    "L3+=y\n",
    "print(L3)\n"
   ]
  },
  {
   "cell_type": "code",
   "execution_count": 9,
   "id": "41287db8-5ff3-4af2-81cc-7c8cab5319f2",
   "metadata": {},
   "outputs": [
    {
     "name": "stdout",
     "output_type": "stream",
     "text": [
      "(1, 2, 3, 4, 5, 6, 7, 1, 2, 3, 4, 5, 6, 7)\n"
     ]
    }
   ],
   "source": [
    "L4=(1,2,3,4,5,6,7)\n",
    "L5=(1,2,3,4,5,6,7)\n",
    "L6=L4+L5\n",
    "\n",
    "print(L6)"
   ]
  },
  {
   "cell_type": "code",
   "execution_count": 11,
   "id": "a0f0d0a0-f8c9-432e-b04b-effe9f616363",
   "metadata": {},
   "outputs": [
    {
     "name": "stdout",
     "output_type": "stream",
     "text": [
      "(1, 2, 3, 4, 5, 6, 7, 1, 2, 3, 4, 5, 6, 7, 1, 2, 3, 4, 5, 6, 7, 1, 2, 3, 4, 5, 6, 7, 1, 2, 3, 4, 5, 6, 7, 1, 2, 3, 4, 5, 6, 7, 1, 2, 3, 4, 5, 6, 7, 1, 2, 3, 4, 5, 6, 7)\n"
     ]
    }
   ],
   "source": [
    "L8=(1,2,3,4,5,6,7)\n",
    "L9=L8*8\n",
    "print(L9)"
   ]
  },
  {
   "cell_type": "code",
   "execution_count": 13,
   "id": "13e6cabe-fa3f-4ea8-aa59-8f3fa65fcf3d",
   "metadata": {},
   "outputs": [
    {
     "name": "stdout",
     "output_type": "stream",
     "text": [
      "4\n"
     ]
    }
   ],
   "source": [
    "L10=(1, 2, 3, 4, 5, 6, 7, 1, 2, 3, 4, 5, 6, 7, 1, 2, 3, 4, 5, 6, 7, 1, 2, 3, 4, 5, 6, 7)\n",
    "x=L10.count(3)\n",
    "print(x)"
   ]
  },
  {
   "cell_type": "code",
   "execution_count": 15,
   "id": "e169fe00-5796-4d29-9317-cbc1aa5c1744",
   "metadata": {},
   "outputs": [
    {
     "name": "stdout",
     "output_type": "stream",
     "text": [
      "4\n"
     ]
    }
   ],
   "source": [
    "L11=(1, 2, 3, 4, 5, 6, 7, 1, 2, 3, 4, 5, 6, 7, 1, 2, 3, 4, 5, 6, 7, 1, 2, 3, 4, 5, 6, 7)\n",
    "x=L11.index(5)\n",
    "print(x)"
   ]
  },
  {
   "cell_type": "code",
   "execution_count": null,
   "id": "0421527f-6ece-4a39-b2f8-6e7989449c1a",
   "metadata": {},
   "outputs": [],
   "source": [
    "  "
   ]
  }
 ],
 "metadata": {
  "kernelspec": {
   "display_name": "Python 3 (ipykernel)",
   "language": "python",
   "name": "python3"
  },
  "language_info": {
   "codemirror_mode": {
    "name": "ipython",
    "version": 3
   },
   "file_extension": ".py",
   "mimetype": "text/x-python",
   "name": "python",
   "nbconvert_exporter": "python",
   "pygments_lexer": "ipython3",
   "version": "3.12.4"
  }
 },
 "nbformat": 4,
 "nbformat_minor": 5
}
