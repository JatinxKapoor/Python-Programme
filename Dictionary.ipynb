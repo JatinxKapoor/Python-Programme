{
  "nbformat": 4,
  "nbformat_minor": 0,
  "metadata": {
    "colab": {
      "provenance": []
    },
    "kernelspec": {
      "name": "python3",
      "display_name": "Python 3"
    },
    "language_info": {
      "name": "python"
    }
  },
  "cells": [
    {
      "cell_type": "code",
      "execution_count": null,
      "metadata": {
        "colab": {
          "base_uri": "https://localhost:8080/"
        },
        "id": "AKP40x030HUD",
        "outputId": "51f6c20e-b0bc-427b-91f8-d80fa253c19a"
      },
      "outputs": [
        {
          "output_type": "stream",
          "name": "stdout",
          "text": [
            "{'Brand': 'BMW', 'Model': 'IX', 'Year': 1964}\n"
          ]
        }
      ],
      "source": [
        "Dict={'Brand':'BMW','Model':'IX','Year':1964}\n",
        "print(Dict)"
      ]
    },
    {
      "cell_type": "code",
      "source": [
        "print(Dict['Model'])"
      ],
      "metadata": {
        "colab": {
          "base_uri": "https://localhost:8080/"
        },
        "id": "BD-4gO5X0_Gg",
        "outputId": "0dd7804f-7c0d-4c9e-c4a9-280d136953ce"
      },
      "execution_count": null,
      "outputs": [
        {
          "output_type": "stream",
          "name": "stdout",
          "text": [
            "IX\n"
          ]
        }
      ]
    },
    {
      "cell_type": "code",
      "source": [
        "print(len(Dict))"
      ],
      "metadata": {
        "colab": {
          "base_uri": "https://localhost:8080/"
        },
        "id": "MaSbm5Ic1ci_",
        "outputId": "78f5ecf2-dd01-40ec-a54c-63941694954b"
      },
      "execution_count": null,
      "outputs": [
        {
          "output_type": "stream",
          "name": "stdout",
          "text": [
            "3\n"
          ]
        }
      ]
    },
    {
      "cell_type": "code",
      "source": [
        "print(type(Dict))"
      ],
      "metadata": {
        "colab": {
          "base_uri": "https://localhost:8080/"
        },
        "id": "jMLpJAbu1zCr",
        "outputId": "1b47ea1a-f06f-4fb4-e37e-7376029087ec"
      },
      "execution_count": null,
      "outputs": [
        {
          "output_type": "stream",
          "name": "stdout",
          "text": [
            "<class 'dict'>\n"
          ]
        }
      ]
    },
    {
      "cell_type": "code",
      "source": [],
      "metadata": {
        "id": "h-0HLz_p2HCx"
      },
      "execution_count": null,
      "outputs": []
    },
    {
      "cell_type": "code",
      "source": [
        "Dict={'Brand':'BMW','Model':'IX','Year':1999}\n",
        "print(Dict)"
      ],
      "metadata": {
        "colab": {
          "base_uri": "https://localhost:8080/"
        },
        "id": "yhoxMj-J22-Z",
        "outputId": "f7be6a20-bc32-4235-a073-5ac5db524fb7"
      },
      "execution_count": null,
      "outputs": [
        {
          "output_type": "stream",
          "name": "stdout",
          "text": [
            "{'Brand': 'BMW', 'Model': 'IX', 'Year': 1999}\n"
          ]
        }
      ]
    },
    {
      "cell_type": "code",
      "source": [
        "# Get\n",
        "x=Dict.get(\"Model\")\n",
        "print(x)"
      ],
      "metadata": {
        "colab": {
          "base_uri": "https://localhost:8080/"
        },
        "id": "1qQ-JDlG3YWR",
        "outputId": "8d93088e-b479-42f4-b2e4-a7e7c086638b"
      },
      "execution_count": null,
      "outputs": [
        {
          "output_type": "stream",
          "name": "stdout",
          "text": [
            "IX\n"
          ]
        }
      ]
    },
    {
      "cell_type": "code",
      "source": [
        "#Keys\n",
        "x=Dict.keys()\n",
        "print(x)"
      ],
      "metadata": {
        "colab": {
          "base_uri": "https://localhost:8080/"
        },
        "id": "91NKh5bc3jXQ",
        "outputId": "0c8e0334-cab3-41b3-e1e9-d8502d9fbec1"
      },
      "execution_count": null,
      "outputs": [
        {
          "output_type": "stream",
          "name": "stdout",
          "text": [
            "dict_keys(['Brand', 'Model', 'Year'])\n"
          ]
        }
      ]
    },
    {
      "cell_type": "code",
      "source": [
        "#values\n",
        "x=Dict.values()\n",
        "print(x)"
      ],
      "metadata": {
        "colab": {
          "base_uri": "https://localhost:8080/"
        },
        "id": "wHKhgLyS3-Tt",
        "outputId": "f62e4337-4406-4dac-add6-9a77833aab97"
      },
      "execution_count": null,
      "outputs": [
        {
          "output_type": "stream",
          "name": "stdout",
          "text": [
            "dict_values(['BMW', 'IX', 1999])\n"
          ]
        }
      ]
    },
    {
      "cell_type": "code",
      "source": [
        "#To change values of Dictionary\n",
        "Dict['Year']=2024\n",
        "print(Dict)"
      ],
      "metadata": {
        "colab": {
          "base_uri": "https://localhost:8080/"
        },
        "id": "fX5A0JgL4NKm",
        "outputId": "cfc80dfd-b101-46a9-be74-237ae6a9143f"
      },
      "execution_count": null,
      "outputs": [
        {
          "output_type": "stream",
          "name": "stdout",
          "text": [
            "{'Brand': 'BMW', 'Model': 'IX', 'Year': 2024}\n"
          ]
        }
      ]
    },
    {
      "cell_type": "code",
      "source": [
        "Dict['Color']=\"White\"\n",
        "print(Dict)"
      ],
      "metadata": {
        "colab": {
          "base_uri": "https://localhost:8080/"
        },
        "id": "I0_TnNU25S7d",
        "outputId": "a4c907a0-c8bc-41fc-c7e1-71ca5ffd89fc"
      },
      "execution_count": null,
      "outputs": [
        {
          "output_type": "stream",
          "name": "stdout",
          "text": [
            "{'Brand': 'BMW', 'Model': 'IX', 'Year': 2024, 'Color': 'White'}\n"
          ]
        }
      ]
    },
    {
      "cell_type": "code",
      "source": [
        "D3={'name':'a','year':2023,'Pass':True,'Marks':[50,60,70]}\n",
        "print(D3)"
      ],
      "metadata": {
        "colab": {
          "base_uri": "https://localhost:8080/"
        },
        "id": "ljUGeLcm5cbb",
        "outputId": "b7c94097-bad3-4893-a04e-c164f5b9e8c4"
      },
      "execution_count": null,
      "outputs": [
        {
          "output_type": "stream",
          "name": "stdout",
          "text": [
            "{'name': 'a', 'year': 2023, 'Pass': True, 'Marks': [50, 60, 70]}\n"
          ]
        }
      ]
    },
    {
      "cell_type": "code",
      "source": [
        "D3.update({'year':2024})"
      ],
      "metadata": {
        "id": "VMWFkz2H6Qr9"
      },
      "execution_count": null,
      "outputs": []
    },
    {
      "cell_type": "code",
      "source": [
        "print(D3)"
      ],
      "metadata": {
        "colab": {
          "base_uri": "https://localhost:8080/"
        },
        "id": "zGpDYEj66jyy",
        "outputId": "04efdd80-7545-42ce-e554-f9942695cd69"
      },
      "execution_count": null,
      "outputs": [
        {
          "output_type": "stream",
          "name": "stdout",
          "text": [
            "{'name': 'a', 'year': 2024, 'Pass': True, 'Marks': [50, 60, 70]}\n"
          ]
        }
      ]
    },
    {
      "cell_type": "code",
      "source": [
        "D3['phone-no']=94566"
      ],
      "metadata": {
        "id": "1ZmJ5A-L6mKZ"
      },
      "execution_count": null,
      "outputs": []
    },
    {
      "cell_type": "code",
      "source": [
        "print(D3)"
      ],
      "metadata": {
        "colab": {
          "base_uri": "https://localhost:8080/"
        },
        "id": "kYDDbnSZ61Pd",
        "outputId": "d82f9e8e-576f-420e-8b98-dbaea83c9d6e"
      },
      "execution_count": null,
      "outputs": [
        {
          "output_type": "stream",
          "name": "stdout",
          "text": [
            "{'name': 'a', 'year': 2024, 'Pass': True, 'Marks': [50, 60, 70], 'phone-no': 94566}\n"
          ]
        }
      ]
    },
    {
      "cell_type": "code",
      "source": [
        "# For removing dictionary items\n",
        "D4={'name': 'a', 'year': 2024, 'Pass': True, 'Marks': [50, 60, 70], 'phone-no': 94566}\n",
        "D4.pop('phone-no')"
      ],
      "metadata": {
        "id": "khf4Hp0r67Qa",
        "colab": {
          "base_uri": "https://localhost:8080/"
        },
        "outputId": "a80e8df8-a590-4d88-e273-13dee2cc50d7"
      },
      "execution_count": null,
      "outputs": [
        {
          "output_type": "execute_result",
          "data": {
            "text/plain": [
              "94566"
            ]
          },
          "metadata": {},
          "execution_count": 2
        }
      ]
    },
    {
      "cell_type": "code",
      "source": [
        "D4.popitem()"
      ],
      "metadata": {
        "colab": {
          "base_uri": "https://localhost:8080/"
        },
        "id": "Q5b7kpwh942o",
        "outputId": "56ed77ea-247c-4c04-94a9-4253c669a67c"
      },
      "execution_count": null,
      "outputs": [
        {
          "output_type": "execute_result",
          "data": {
            "text/plain": [
              "('Marks', [50, 60, 70])"
            ]
          },
          "metadata": {},
          "execution_count": 3
        }
      ]
    },
    {
      "cell_type": "code",
      "source": [
        "# Delete function\n",
        "del  D4['Pass']"
      ],
      "metadata": {
        "id": "15Jhdjch-UiI"
      },
      "execution_count": null,
      "outputs": []
    },
    {
      "cell_type": "code",
      "source": [
        "#Copy Dictionary\n",
        "D6 = D3.copy()"
      ],
      "metadata": {
        "id": "dwCK2HwPA4Dt"
      },
      "execution_count": null,
      "outputs": []
    },
    {
      "cell_type": "code",
      "source": [
        "print(D4)"
      ],
      "metadata": {
        "colab": {
          "base_uri": "https://localhost:8080/"
        },
        "id": "7Xp41M1S-i8Q",
        "outputId": "b1586152-985a-4511-fd48-d98814d34310"
      },
      "execution_count": null,
      "outputs": [
        {
          "output_type": "stream",
          "name": "stdout",
          "text": [
            "{'name': 'a', 'year': 2024}\n"
          ]
        }
      ]
    },
    {
      "cell_type": "code",
      "source": [
        "del D4"
      ],
      "metadata": {
        "id": "5ISbMyQxAp9k"
      },
      "execution_count": null,
      "outputs": []
    },
    {
      "cell_type": "code",
      "source": [
        "D6"
      ],
      "metadata": {
        "colab": {
          "base_uri": "https://localhost:8080/"
        },
        "id": "XULH3K1kBSE7",
        "outputId": "a6fcfed5-c6ed-4007-bf2f-71c0a193ddcb"
      },
      "execution_count": null,
      "outputs": [
        {
          "output_type": "execute_result",
          "data": {
            "text/plain": [
              "{'name': 'a', 'year': 2023, 'Pass': True, 'Marks': [50, 60, 70]}"
            ]
          },
          "metadata": {},
          "execution_count": 15
        }
      ]
    },
    {
      "cell_type": "code",
      "source": [
        "d7=dict(D6)\n",
        "\n",
        "d7"
      ],
      "metadata": {
        "colab": {
          "base_uri": "https://localhost:8080/"
        },
        "id": "gFgWB05eCFf9",
        "outputId": "f700e060-2b7c-414c-8d59-481d1c9306b3"
      },
      "execution_count": null,
      "outputs": [
        {
          "output_type": "execute_result",
          "data": {
            "text/plain": [
              "{'name': 'a', 'year': 2023, 'Pass': True, 'Marks': [50, 60, 70]}"
            ]
          },
          "metadata": {},
          "execution_count": 17
        }
      ]
    },
    {
      "cell_type": "code",
      "source": [
        "YourFamily={\"Child1\": {\"Name\":\"Emil\",\"Year\":2004},\"Child2\" : {\"name\":\"Tobias\",\"year\":2007},\"Child3\" : {\"name\":\"Linus\",\"year\":2011}}\n",
        "print(YourFamily)"
      ],
      "metadata": {
        "colab": {
          "base_uri": "https://localhost:8080/"
        },
        "id": "tryDF0w_C8cB",
        "outputId": "27770785-43bd-45b9-bd4c-ab5bee562ef7"
      },
      "execution_count": null,
      "outputs": [
        {
          "output_type": "stream",
          "name": "stdout",
          "text": [
            "{'Child1': {'Name': 'Emil', 'Year': 2004}, 'Child2': {'name': 'Tobias', 'year': 2007}, 'Child3': {'name': 'Linus', 'year': 2011}}\n"
          ]
        }
      ]
    },
    {
      "cell_type": "code",
      "source": [
        "#Create a list of first ten number and add eleven in the end of the list and add zero in middle and break list into 2 parts.\n",
        "\n",
        "L1=[1,2,3,4,5,6,7,8,9,10]\n",
        "L1.append(11)\n",
        "L1.insert(5,0)\n",
        "\n",
        "print(L1)"
      ],
      "metadata": {
        "id": "XDRJFIbQE3kV",
        "colab": {
          "base_uri": "https://localhost:8080/"
        },
        "outputId": "5392a2d4-c994-4a0f-bddf-3e44eb1cc58b"
      },
      "execution_count": null,
      "outputs": [
        {
          "output_type": "stream",
          "name": "stdout",
          "text": [
            "[1, 2, 3, 4, 5, 0, 6, 7, 8, 9, 10, 11]\n"
          ]
        }
      ]
    },
    {
      "cell_type": "code",
      "source": [
        "L1=[1,2,3,4,5,6,7,8,9,10]\n",
        "L1[4]\n",
        "print (L1)"
      ],
      "metadata": {
        "colab": {
          "base_uri": "https://localhost:8080/"
        },
        "id": "V6YdINwiKCUw",
        "outputId": "3b2d4bed-1493-4951-ef9d-1cbd01996d5f"
      },
      "execution_count": null,
      "outputs": [
        {
          "output_type": "stream",
          "name": "stdout",
          "text": [
            "[1, 2, 3, 4, 5, 6, 7, 8, 9, 10]\n"
          ]
        }
      ]
    },
    {
      "cell_type": "code",
      "source": [
        "M=[11,27,13,91,9]\n",
        "mid=len(M)//2\n",
        "print(M[mid])\n",
        "m1=M[:mid]\n",
        "m2=M[mid:]\n",
        "print(m1)\n",
        "print(2)"
      ],
      "metadata": {
        "colab": {
          "base_uri": "https://localhost:8080/"
        },
        "id": "UZZHm-qYKSMP",
        "outputId": "183cc43b-f3d2-4c56-f6b7-81ee7e791671"
      },
      "execution_count": null,
      "outputs": [
        {
          "output_type": "stream",
          "name": "stdout",
          "text": [
            "13\n",
            "[11, 27]\n",
            "2\n"
          ]
        }
      ]
    },
    {
      "cell_type": "code",
      "source": [
        "M=[1,2,3,4,56,7,8,9,0,0,4,6,8,4,6,7,8]\n",
        "x=len(M)//6\n",
        "print(M[x])\n",
        "1=x[:mid]\n",
        "2=x[mid:mid*2]\n",
        "3=x[mid*2:mid*4]\n",
        "4=x[mid*4:mid*6]\n",
        "5=x[mid*6:mid*8]\n",
        "6=x[mid*8:]\n",
        "print(1)\n",
        "print(2)\n",
        "print(3)\n",
        "print(4)\n",
        "print(5)\n",
        "print(6)"
      ],
      "metadata": {
        "id": "Dq7RqOB-Meqi",
        "colab": {
          "base_uri": "https://localhost:8080/",
          "height": 106
        },
        "outputId": "09ae63c5-d182-4d26-e1c5-d6d8a13fbdcf"
      },
      "execution_count": null,
      "outputs": [
        {
          "output_type": "error",
          "ename": "SyntaxError",
          "evalue": "cannot assign to literal here. Maybe you meant '==' instead of '='? (<ipython-input-6-25ce78c7bb7b>, line 4)",
          "traceback": [
            "\u001b[0;36m  File \u001b[0;32m\"<ipython-input-6-25ce78c7bb7b>\"\u001b[0;36m, line \u001b[0;32m4\u001b[0m\n\u001b[0;31m    1=x[:mid]\u001b[0m\n\u001b[0m    ^\u001b[0m\n\u001b[0;31mSyntaxError\u001b[0m\u001b[0;31m:\u001b[0m cannot assign to literal here. Maybe you meant '==' instead of '='?\n"
          ]
        }
      ]
    },
    {
      "cell_type": "code",
      "source": [
        "i = 1\n",
        "sum = 0\n",
        "while i<=5:\n",
        "    sum = sum + i\n",
        "    i = i+1\n",
        "print(\"The sum is\", sum)"
      ],
      "metadata": {
        "id": "XcddIixQUv6I",
        "colab": {
          "base_uri": "https://localhost:8080/"
        },
        "outputId": "216b5238-cc4c-41a8-cc12-87aa2e0c3891"
      },
      "execution_count": 8,
      "outputs": [
        {
          "output_type": "stream",
          "name": "stdout",
          "text": [
            "The sum is 15\n"
          ]
        }
      ]
    },
    {
      "cell_type": "code",
      "source": [
        "str = \"Jungle Safari\"\n",
        "list = str.split()\n",
        "print(list)"
      ],
      "metadata": {
        "colab": {
          "base_uri": "https://localhost:8080/"
        },
        "id": "dYYgQrnd2-jS",
        "outputId": "35644d7a-78de-4c23-f5bd-2ab20204631e"
      },
      "execution_count": 3,
      "outputs": [
        {
          "output_type": "stream",
          "name": "stdout",
          "text": [
            "['Jungle', 'Safari']\n"
          ]
        }
      ]
    }
  ]
}