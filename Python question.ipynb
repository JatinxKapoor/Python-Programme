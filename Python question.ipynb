{
 "cells": [
  {
   "cell_type": "code",
   "execution_count": 1,
   "id": "b9887428-14e9-4b79-a090-508fec6b624a",
   "metadata": {},
   "outputs": [
    {
     "name": "stdout",
     "output_type": "stream",
     "text": [
      "<class 'set'>\n"
     ]
    }
   ],
   "source": [
    "Set1={1,2,3,4,5,6}\n",
    "print(type(Set1))"
   ]
  },
  {
   "cell_type": "code",
   "execution_count": 2,
   "id": "a6a54d29-c991-40fc-ad9b-cc2bdbb45ddf",
   "metadata": {},
   "outputs": [
    {
     "name": "stdout",
     "output_type": "stream",
     "text": [
      "{1, 2, 3, 4, 'A', 5, 6, 'B'}\n"
     ]
    }
   ],
   "source": [
    "Set={'A','B',1,2,4,5,6,6,6,True,1,3,4,5,6}\n",
    "print(Set)"
   ]
  },
  {
   "cell_type": "code",
   "execution_count": 3,
   "id": "5be7657f-b12e-403d-b3c7-c7e1aede4ae1",
   "metadata": {},
   "outputs": [
    {
     "name": "stdout",
     "output_type": "stream",
     "text": [
      "8\n"
     ]
    }
   ],
   "source": [
    "Set={'A','B',1,2,4,5,6,6,6,True,1,3,4,5,6}\n",
    "print(len(Set))"
   ]
  },
  {
   "cell_type": "code",
   "execution_count": 4,
   "id": "7f01af39-7902-4ed8-840f-7c93a26c371a",
   "metadata": {},
   "outputs": [
    {
     "name": "stdout",
     "output_type": "stream",
     "text": [
      "True\n"
     ]
    }
   ],
   "source": [
    "Set={'A','B',1,2,4,5,6,6,6,True,1,3,4,5,6}\n",
    "print(True in Set)"
   ]
  },
  {
   "cell_type": "code",
   "execution_count": 5,
   "id": "f231f194-170e-4be5-9d87-844bcb2f48b4",
   "metadata": {},
   "outputs": [
    {
     "name": "stdout",
     "output_type": "stream",
     "text": [
      "{'Orange', 'Carrot', 'apple', 'banana'}\n"
     ]
    }
   ],
   "source": [
    "L1={\"apple\",\"banana\",\"Carrot\"}\n",
    "L1.add(\"Orange\")\n",
    "print(L1)"
   ]
  },
  {
   "cell_type": "code",
   "execution_count": 6,
   "id": "980db1c7-bf81-4936-b8d0-ce3be2a898a8",
   "metadata": {},
   "outputs": [
    {
     "name": "stdout",
     "output_type": "stream",
     "text": [
      "{1, 2, 3, 4, 5, 6, 'banana', 'carrot', 'apple'}\n"
     ]
    }
   ],
   "source": [
    "a={'apple','banana','carrot'}\n",
    "b={1,2,3,4,5,6}\n",
    "a.update(b)\n",
    "print(a)"
   ]
  },
  {
   "cell_type": "code",
   "execution_count": 7,
   "id": "64863cf3-b3c7-4b63-bb1b-19f397face48",
   "metadata": {},
   "outputs": [
    {
     "name": "stdout",
     "output_type": "stream",
     "text": [
      "{'Orange', 'apple', 'banana'}\n"
     ]
    }
   ],
   "source": [
    "a1={'banana', 'Carrot', 'apple', 'Orange'}\n",
    "a1.remove(\"Carrot\")\n",
    "print(a1)"
   ]
  },
  {
   "cell_type": "code",
   "execution_count": 8,
   "id": "e5a84aea-391d-41f8-9cc1-3bdc6f9bc435",
   "metadata": {},
   "outputs": [
    {
     "name": "stdout",
     "output_type": "stream",
     "text": [
      "{'Orange', 'Carrot', 'apple', 'banana'}\n"
     ]
    }
   ],
   "source": [
    "b1={'banana', 'Carrot', 'apple', 'Orange'}\n",
    "b1.discard('fgh')\n",
    "print(b1)"
   ]
  },
  {
   "cell_type": "code",
   "execution_count": 9,
   "id": "a6fc8e94-5cf8-4af0-af5f-76e3e5e856e3",
   "metadata": {},
   "outputs": [
    {
     "name": "stdout",
     "output_type": "stream",
     "text": [
      "Orange\n"
     ]
    }
   ],
   "source": [
    "a2={'banana', 'Carrot', 'apple', 'Orange'}\n",
    "b = a2.pop()\n",
    "print(b)"
   ]
  },
  {
   "cell_type": "code",
   "execution_count": 10,
   "id": "c063c028-b2b4-43fd-b8d7-216ff7a92cf6",
   "metadata": {},
   "outputs": [
    {
     "name": "stdout",
     "output_type": "stream",
     "text": [
      "{'carrot', 'apple', 'banana'}\n"
     ]
    }
   ],
   "source": [
    "a={'apple','banana','carrot'}\n",
    "b={1,2,3,4,5,6}\n",
    "a.union(b)\n",
    "print(a)"
   ]
  },
  {
   "cell_type": "code",
   "execution_count": 11,
   "id": "11100682-b462-4241-9628-6658e60937be",
   "metadata": {},
   "outputs": [
    {
     "name": "stdout",
     "output_type": "stream",
     "text": [
      "{1, 2, 3, 4, 5, 6, 'banana', 'carrot', 'apple'}\n"
     ]
    }
   ],
   "source": [
    "a={'apple','banana','carrot'}\n",
    "b={1,2,3,4,5,6}\n",
    "c= a|b\n",
    "print(c)"
   ]
  },
  {
   "cell_type": "code",
   "execution_count": 12,
   "id": "0c9ea649-840a-4f0b-bc77-4c7adb3708e5",
   "metadata": {},
   "outputs": [
    {
     "name": "stdout",
     "output_type": "stream",
     "text": [
      "{1, 2, 3, 4, 5, 6, 'A', 'carrot', 'B', 'Carrot', 'Orange', 'banana', 'apple'}\n"
     ]
    }
   ],
   "source": [
    "a={'apple','banana','carrot'}\n",
    "b={1,2,3,4,5,6}\n",
    "b1={'banana', 'Carrot', 'apple', 'Orange'}\n",
    "Set={'A','B',1,2,4,5,6,6,6,True,1,3,4,5,6}\n",
    "x = a.union(b,b1,Set)\n",
    "print(x)"
   ]
  },
  {
   "cell_type": "code",
   "execution_count": 13,
   "id": "d18ad044-fd40-47c8-b630-db01095f7436",
   "metadata": {},
   "outputs": [
    {
     "name": "stdout",
     "output_type": "stream",
     "text": [
      "{1, 2, 3, 4, 5, 6, 'A', 'carrot', 'B', 'Carrot', 'Orange', 'banana', 'apple'}\n"
     ]
    }
   ],
   "source": [
    "a={'apple','banana','carrot'}\n",
    "b={1,2,3,4,5,6}\n",
    "b1={'banana', 'Carrot', 'apple', 'Orange'}\n",
    "Set={'A','B',1,2,4,5,6,6,6,True,1,3,4,5,6}\n",
    "X = a | b | b1 | Set\n",
    "print(X)"
   ]
  },
  {
   "cell_type": "code",
   "execution_count": 14,
   "id": "8da119e9-c94d-4d07-97d4-ecfb57275d67",
   "metadata": {},
   "outputs": [
    {
     "name": "stdout",
     "output_type": "stream",
     "text": [
      "{1, 2, 3, 4, 5, 6}\n"
     ]
    }
   ],
   "source": [
    "b={1,2,3,4,5,6}\n",
    "Set={'A','B',1,2,4,5,6,6,6,True,1,3,4,5,6}\n",
    "c= b.intersection(Set)\n",
    "print(c)"
   ]
  },
  {
   "cell_type": "code",
   "execution_count": 15,
   "id": "6b3c40cd-242d-47a0-9f25-a195d2eb407e",
   "metadata": {},
   "outputs": [
    {
     "name": "stdout",
     "output_type": "stream",
     "text": [
      "{1, 2, 3, 4, 5, 6}\n"
     ]
    }
   ],
   "source": [
    "Set={'A','B',1,2,4,5,6,6,6,True,1,3,4,5,6}\n",
    "b={1,2,3,4,5,6}\n",
    "c= Set & b\n",
    "print(c)"
   ]
  },
  {
   "cell_type": "code",
   "execution_count": 16,
   "id": "47844eab-ca44-4c32-bcb8-d7ca8f962897",
   "metadata": {
    "scrolled": true
   },
   "outputs": [
    {
     "name": "stdout",
     "output_type": "stream",
     "text": [
      "{'B', 'A'}\n"
     ]
    }
   ],
   "source": [
    "Set={'A','B',1,2,4,5,6,6,6,True,1,3,4,5,6}\n",
    "b={1,2,3,4,5,6}\n",
    "c= Set.difference(b)\n",
    "print(c)"
   ]
  },
  {
   "cell_type": "code",
   "execution_count": 17,
   "id": "7d4139c2-bdf5-42c0-8830-cd0ae3e350e1",
   "metadata": {},
   "outputs": [
    {
     "name": "stdout",
     "output_type": "stream",
     "text": [
      "set()\n"
     ]
    }
   ],
   "source": [
    "Set={'A','B',1,2,4,5,6,6,6,True,1,3,4,5,6}\n",
    "b={1,2,3,4,5,6}\n",
    "c= b.difference(Set)\n",
    "print(c)"
   ]
  },
  {
   "cell_type": "code",
   "execution_count": 18,
   "id": "9e868a39-1cd5-4755-be88-a4a21fc30b6b",
   "metadata": {},
   "outputs": [
    {
     "name": "stdout",
     "output_type": "stream",
     "text": [
      "{'Clinton', 6, 'Bush', 'John', 'Smith'}\n"
     ]
    }
   ],
   "source": [
    "x = {'Smith','John','Bush','Clinton'}\n",
    "z = {6,7,8,9,'Smith','Bush','Obama'}\n",
    "x.add(6)\n",
    "print(x)"
   ]
  },
  {
   "cell_type": "code",
   "execution_count": 19,
   "id": "1e50d20b-dc8e-4a8f-b809-709eb593510f",
   "metadata": {},
   "outputs": [
    {
     "name": "stdout",
     "output_type": "stream",
     "text": [
      "{'Clinton', 'Obama', 6, 7, 8, 9, 'Bush', 'John', 'Smith'}\n"
     ]
    }
   ],
   "source": [
    "x = {'Smith','John','Bush','Clinton'}\n",
    "z = {6,7,8,9,'Smith','Bush','Obama'}\n",
    "x.update(z)\n",
    "print(x)"
   ]
  },
  {
   "cell_type": "code",
   "execution_count": 20,
   "id": "39d2d016-9a31-47af-880c-3af5397ab388",
   "metadata": {},
   "outputs": [
    {
     "name": "stdout",
     "output_type": "stream",
     "text": [
      "{'Clinton', 'Bush', '6', 'John', 'Smith'}\n"
     ]
    }
   ],
   "source": [
    "x = {'Smith','John','Bush','Clinton'}\n",
    "z = {6,7,8,9,'Smith','Bush','Obama'}\n",
    "x.update('6')\n",
    "print(x)"
   ]
  },
  {
   "cell_type": "code",
   "execution_count": 21,
   "id": "9be3a173-5425-4fe7-a05e-fa73e3cc7630",
   "metadata": {},
   "outputs": [
    {
     "name": "stdout",
     "output_type": "stream",
     "text": [
      "{'Clinton', 'John', 'Smith'}\n"
     ]
    }
   ],
   "source": [
    "x = {'Smith','John','Bush','Clinton'}\n",
    "z = {6,7,8,9,'Smith','Bush','Obama'}\n",
    "x.pop()\n",
    "print(x)"
   ]
  },
  {
   "cell_type": "code",
   "execution_count": 22,
   "id": "7f9905f8-0181-4408-bd8e-f7c589761e12",
   "metadata": {},
   "outputs": [
    {
     "name": "stdout",
     "output_type": "stream",
     "text": [
      "True\n"
     ]
    }
   ],
   "source": [
    "x = {'Smith','John','Bush','Clinton'}\n",
    "z = {6,7,8,9,'Smith','Bush','Obama'}\n",
    "print('Smith' in x)"
   ]
  },
  {
   "cell_type": "code",
   "execution_count": 23,
   "id": "4be9546b-3241-4f2b-bcf8-32ddde93e942",
   "metadata": {},
   "outputs": [
    {
     "name": "stdout",
     "output_type": "stream",
     "text": [
      "{'Bush', 'Clinton', 'John', 'Smith'}\n"
     ]
    }
   ],
   "source": [
    "x = {'Smith','John','Bush','Clinton'}\n",
    "z = {6,7,8,9,'Smith','Bush','Obama'}\n",
    "x.discard('python')\n",
    "print(x)"
   ]
  },
  {
   "cell_type": "code",
   "execution_count": 24,
   "id": "d0bba71c-6a61-4a13-a85a-651934037ee9",
   "metadata": {},
   "outputs": [
    {
     "name": "stdout",
     "output_type": "stream",
     "text": [
      "{'Bush', 'Clinton', 'John'}\n"
     ]
    }
   ],
   "source": [
    "x = {'Smith','John','Bush','Clinton'}\n",
    "z = {6,7,8,9,'Smith','Bush','Obama'}\n",
    "x.remove(\"Smith\")\n",
    "print(x)"
   ]
  },
  {
   "cell_type": "code",
   "execution_count": 53,
   "id": "9168a5d4-32cc-4e15-9f6d-ce39f02d4a67",
   "metadata": {},
   "outputs": [
    {
     "name": "stdout",
     "output_type": "stream",
     "text": [
      "{'Clinton', 'Obama', 6, 7, 8, 9, 'Bush', 'John', 'Smith'}\n"
     ]
    }
   ],
   "source": [
    "x = {'Smith','John','Bush','Clinton'}\n",
    "z = {6,7,8,9,'Smith','Bush','Obama'}\n",
    "c = x.union(z)\n",
    "print(c)"
   ]
  },
  {
   "cell_type": "code",
   "execution_count": 55,
   "id": "fc4f067b-fa21-4f11-8f6a-5b73cc4ee927",
   "metadata": {},
   "outputs": [
    {
     "name": "stdout",
     "output_type": "stream",
     "text": [
      "{'Clinton', 'Obama', 6, 7, 8, 9, 'Bush', 'John', 'Smith'}\n"
     ]
    }
   ],
   "source": [
    "x = {'Smith','John','Bush','Clinton'}\n",
    "z = {6,7,8,9,'Smith','Bush','Obama'}\n",
    "c = x|z\n",
    "print(c)"
   ]
  },
  {
   "cell_type": "code",
   "execution_count": 11,
   "id": "8949b629-36f5-4373-9451-571145cb0972",
   "metadata": {},
   "outputs": [
    {
     "name": "stdout",
     "output_type": "stream",
     "text": [
      "13\n",
      "first [11, 27]\n",
      "second [13, 91, 9]\n"
     ]
    }
   ],
   "source": [
    "M=[11,27,13,91,9]\n",
    "mid=len(M)//2\n",
    "print(M[mid])\n",
    "Part1=M[:mid]\n",
    "Part2=M[mid:]\n",
    "print(\"first\",Part1)\n",
    "print(\"second\",Part2)"
   ]
  },
  {
   "cell_type": "code",
   "execution_count": 3,
   "id": "f1ff41d8-5768-4b98-aa48-7cb655e1808e",
   "metadata": {},
   "outputs": [
    {
     "name": "stdout",
     "output_type": "stream",
     "text": [
      "4\n",
      "First [1, 2, 3]\n",
      "Second [4, 5, 6]\n",
      "Third [7, 8, 9, 10, 11, 12]\n",
      "Fourth []\n"
     ]
    }
   ],
   "source": [
    "#Make a list of 12 numbers and break it into 3 sub lists of equal parts \n",
    "\n",
    "L1=[1,2,3,4,5,6,7,8,9,10,11,12]\n",
    "mid=len(L1)//4\n",
    "print(L1[mid])\n",
    "Part1=L1[:mid]\n",
    "Part2=L1[mid:mid*2]\n",
    "Part3=L1[mid*2:mid*4]\n",
    "Part4=L1[mid*4:]\n",
    "print(\"First\",Part1)\n",
    "print(\"Second\",Part2)\n",
    "print(\"Third\",Part3)\n",
    "print(\"Fourth\",Part4)\n"
   ]
  },
  {
   "cell_type": "code",
   "execution_count": null,
   "id": "f74e7c21-d0bb-4bfa-8369-292d2a1db58c",
   "metadata": {},
   "outputs": [],
   "source": []
  },
  {
   "cell_type": "code",
   "execution_count": null,
   "id": "63337645-8169-4f17-b374-f980f8559451",
   "metadata": {},
   "outputs": [],
   "source": []
  }
 ],
 "metadata": {
  "kernelspec": {
   "display_name": "Python 3 (ipykernel)",
   "language": "python",
   "name": "python3"
  },
  "language_info": {
   "codemirror_mode": {
    "name": "ipython",
    "version": 3
   },
   "file_extension": ".py",
   "mimetype": "text/x-python",
   "name": "python",
   "nbconvert_exporter": "python",
   "pygments_lexer": "ipython3",
   "version": "3.12.4"
  }
 },
 "nbformat": 4,
 "nbformat_minor": 5
}
