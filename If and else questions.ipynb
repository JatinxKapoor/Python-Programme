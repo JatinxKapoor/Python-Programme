{
 "cells": [
  {
   "cell_type": "code",
   "execution_count": 1,
   "id": "151b3a0e-4aca-4731-9d20-c5525a29551d",
   "metadata": {},
   "outputs": [
    {
     "name": "stdout",
     "output_type": "stream",
     "text": [
      "b is greater than a \n"
     ]
    }
   ],
   "source": [
    "# Python supports these logical conditions from mathematics\n",
    "\n",
    "#An \"if statement\" is written by using the if keyword\n",
    "\n",
    "a=100\n",
    "b=500\n",
    "if b>a:\n",
    "    print(\"b is greater than a \")"
   ]
  },
  {
   "cell_type": "code",
   "execution_count": 9,
   "id": "66091347-d090-4aab-879a-1495bf01534c",
   "metadata": {},
   "outputs": [],
   "source": [
    "# Identation Error\n",
    "\n",
    "a=50\n",
    "b=37\n",
    "if b>a: \n",
    "    print(\"b is greater than a \")"
   ]
  },
  {
   "cell_type": "code",
   "execution_count": null,
   "id": "bebda657-311a-4e42-af67-34b3d540b09f",
   "metadata": {},
   "outputs": [],
   "source": [
    "number = int(input('Enter a number:'))\n",
    "\n",
    "#check if number is greater than 0\n",
    "\n",
    "if number>0:\n",
    "    print(\"Given number is positive number\")\n",
    "else:\n",
    "    print(\"Given number is negative number\")"
   ]
  },
  {
   "cell_type": "code",
   "execution_count": null,
   "id": "4a8b4eed-ad27-4a4a-a7d4-ac668b243045",
   "metadata": {},
   "outputs": [],
   "source": [
    "num=int(input(\"Enter a number:\"))\n",
    "if(num%2)==0:\n",
    "    print(\"Even No\")\n",
    "else:\n",
    "    print(\"Odd No\")\n",
    "    "
   ]
  },
  {
   "cell_type": "code",
   "execution_count": null,
   "id": "bbbdafa7-c17a-40a8-ab1f-140e8c54f70b",
   "metadata": {},
   "outputs": [],
   "source": [
    "a=4576\n",
    "b=986\n",
    "if b>a:\n",
    "    print(\"B is greater than a\")\n",
    "elif b==a:\n",
    "    print(\"B is equal to a\")\n",
    "else:\n",
    "    print(\"B is not equal to a\")"
   ]
  },
  {
   "cell_type": "code",
   "execution_count": null,
   "id": "d357eac8-8cf2-4d69-b9d4-5df92db4a5a6",
   "metadata": {},
   "outputs": [],
   "source": [
    "x=int(input(\"Enter a Number:\"))\n",
    "if (x%4==0):\n",
    "    print(\"even no.\")\n",
    "else:\n",
    "    print(\"odd no.\")"
   ]
  },
  {
   "cell_type": "code",
   "execution_count": null,
   "id": "66718375-ad22-4709-90f3-f270e0598ac3",
   "metadata": {},
   "outputs": [],
   "source": [
    "number=-5\n",
    "if number>0:\n",
    "    print('even no.')\n",
    "elif number <0:\n",
    "    print('negative no.')\n",
    "else:\n",
    "    print('Nothing')"
   ]
  },
  {
   "cell_type": "code",
   "execution_count": null,
   "id": "011725aa-4ba9-447d-8195-8c709155c60d",
   "metadata": {},
   "outputs": [],
   "source": [
    "#Nested if Statements\n",
    "x=5\n",
    "\n",
    "#outer if statement\n",
    "if x>=0:\n",
    "    #inner if statement\n",
    "    if x==0:\n",
    "        print('Number is 0')\n",
    "         #inner else statement\n",
    "    else:\n",
    "        print('Number is positive')\n",
    "\n",
    "#Outer else statement\n",
    "else:\n",
    "  print('Number is Negative')"
   ]
  },
  {
   "cell_type": "code",
   "execution_count": null,
   "id": "6a93392a-0510-4ea3-ac18-ebdabc66f2b6",
   "metadata": {},
   "outputs": [],
   "source": [
    "x=int(input(\"Enter a number:\"))\n",
    "\n",
    "if x>=0:\n",
    "    if x==0:\n",
    "        print('number is zero')\n",
    "    else:\n",
    "        print('number is positive')\n",
    "else:\n",
    "    print('number is negative')"
   ]
  },
  {
   "cell_type": "code",
   "execution_count": null,
   "id": "efd99d8e-2833-45f1-916a-41957d1c4b94",
   "metadata": {},
   "outputs": [],
   "source": [
    "x=56\n",
    "b=76\n",
    "c=48\n",
    "\n",
    "if x>b and c>b:\n",
    "    print('abc')"
   ]
  },
  {
   "cell_type": "code",
   "execution_count": null,
   "id": "5410b516-f3f6-40c2-9d84-29c21555dc89",
   "metadata": {},
   "outputs": [],
   "source": [
    "x=506\n",
    "b=76\n",
    "c=48\n",
    "\n",
    "if x>b or c>b:\n",
    "    print('abc')"
   ]
  },
  {
   "cell_type": "code",
   "execution_count": null,
   "id": "703cbe18-df7e-4fdb-8997-5e3419eafb88",
   "metadata": {},
   "outputs": [],
   "source": [
    "i=1\n",
    "while i<10:\n",
    "    print(i)\n",
    "    i=i+1"
   ]
  },
  {
   "cell_type": "code",
   "execution_count": null,
   "id": "e4451f1e-1e38-4b16-93b7-376efcc5f23c",
   "metadata": {},
   "outputs": [],
   "source": [
    "i=0\n",
    "while i<10:\n",
    "    print(i)\n",
    "    i=i+2"
   ]
  },
  {
   "cell_type": "code",
   "execution_count": null,
   "id": "b85acf26-70a1-4047-bcc3-763884c38f28",
   "metadata": {},
   "outputs": [],
   "source": [
    "i=1\n",
    "while i<10:\n",
    "    print(i)\n",
    "    i=i+2"
   ]
  },
  {
   "cell_type": "code",
   "execution_count": null,
   "id": "8551e83b-6864-4726-9d8e-0df056474ef4",
   "metadata": {},
   "outputs": [],
   "source": [
    "i=1\n",
    "while i<10:\n",
    "    print(i)\n",
    "    i=i+5"
   ]
  },
  {
   "cell_type": "code",
   "execution_count": null,
   "id": "68c74a27-a88b-4523-bb56-a0dad9eda654",
   "metadata": {},
   "outputs": [],
   "source": [
    "i=0\n",
    "while 1<10:\n",
    "    i +=1\n",
    "    if i == 3:\n",
    "        continue\n",
    "         print(i)"
   ]
  },
  {
   "cell_type": "code",
   "execution_count": null,
   "id": "10181fc6-a935-4a37-a9d6-a7d82e733633",
   "metadata": {},
   "outputs": [],
   "source": [
    "n=int(input('Number:'))\n",
    "i=1\n",
    "sum=0\n",
    "while (i<=n):\n",
    "    sum=sum+i\n",
    "    i=i+1\n",
    "print(sum)\n",
    "    \n",
    "    "
   ]
  },
  {
   "cell_type": "code",
   "execution_count": null,
   "id": "00c29bdd-b29c-4aa4-a515-0e6cae22356d",
   "metadata": {},
   "outputs": [],
   "source": [
    "#WAP to print sum of square of natural number\n",
    "#WAP to print sum of cube of natural number\n",
    "\n",
    "n=int(input('Number'))\n",
    "i=1\n",
    "sum=0\n",
    "while (i<=n):\n",
    "    sum=sum+n*n\n",
    "    i=i+1\n",
    "print(sum)\n",
    "\n"
   ]
  },
  {
   "cell_type": "code",
   "execution_count": null,
   "id": "33304a21-72b5-4831-8b94-134e66ffe8da",
   "metadata": {},
   "outputs": [],
   "source": [
    "i=1\n",
    "while i<=10:\n",
    "    print(i)\n",
    "    if i==3:\n",
    "        break\n",
    "    i=i+1"
   ]
  },
  {
   "cell_type": "code",
   "execution_count": null,
   "id": "7296ffdb-2f58-4aaa-86df-eb2b3ecdff92",
   "metadata": {},
   "outputs": [],
   "source": [
    "i=1\n",
    "while i<10:\n",
    "    i=i+1\n",
    "    if i==3:\n",
    "        continue\n",
    "    print(i)\n",
    "    "
   ]
  },
  {
   "cell_type": "code",
   "execution_count": 7,
   "id": "37f24af6-be5c-44a1-8a82-372b246927dd",
   "metadata": {},
   "outputs": [],
   "source": [
    "i=1\n",
    "sum=0\n",
    "while i>=5:\n",
    "    sum += i\n",
    "    i +=1\n",
    "    print(sum)"
   ]
  }
 ],
 "metadata": {
  "kernelspec": {
   "display_name": "Python 3 (ipykernel)",
   "language": "python",
   "name": "python3"
  },
  "language_info": {
   "codemirror_mode": {
    "name": "ipython",
    "version": 3
   },
   "file_extension": ".py",
   "mimetype": "text/x-python",
   "name": "python",
   "nbconvert_exporter": "python",
   "pygments_lexer": "ipython3",
   "version": "3.12.4"
  }
 },
 "nbformat": 4,
 "nbformat_minor": 5
}
