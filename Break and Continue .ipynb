{
 "cells": [
  {
   "cell_type": "code",
   "execution_count": 1,
   "id": "e97872c9-d617-4aaa-bac6-a843e39379a3",
   "metadata": {},
   "outputs": [
    {
     "name": "stdout",
     "output_type": "stream",
     "text": [
      "1\n",
      "2\n",
      "3\n"
     ]
    }
   ],
   "source": [
    "i=1\n",
    "while i<=10:\n",
    "    print(i)\n",
    "    if i==3:\n",
    "        break\n",
    "    i=i+1"
   ]
  },
  {
   "cell_type": "code",
   "execution_count": 17,
   "id": "b4817965-c281-47d5-b052-bb5967523cf7",
   "metadata": {},
   "outputs": [
    {
     "name": "stdout",
     "output_type": "stream",
     "text": [
      "2\n",
      "4\n",
      "5\n",
      "6\n",
      "7\n",
      "8\n",
      "9\n",
      "10\n",
      "11\n"
     ]
    }
   ],
   "source": [
    "i=1\n",
    "while i<=10:\n",
    "   i=i+1\n",
    "   if i==3:\n",
    "      continue\n",
    "   print(i)\n",
    "   "
   ]
  },
  {
   "cell_type": "code",
   "execution_count": 19,
   "id": "3e79fce3-36f8-4ef5-9456-762c75e3f937",
   "metadata": {},
   "outputs": [
    {
     "name": "stdin",
     "output_type": "stream",
     "text": [
      "Number 5\n"
     ]
    },
    {
     "name": "stdout",
     "output_type": "stream",
     "text": [
      "125\n"
     ]
    }
   ],
   "source": [
    "#WAP to print sum of square of natural number\n",
    "#WAP to print sum of cube of natural number\n",
    "\n",
    "n=int(input('Number'))\n",
    "i=1\n",
    "sum=0\n",
    "while (i<=n):\n",
    "    sum=sum+n*n\n",
    "    i=i+1\n",
    "print(sum)"
   ]
  },
  {
   "cell_type": "code",
   "execution_count": 21,
   "id": "2615b8b7-ff4c-48b3-9d69-cfb0bf6a8e28",
   "metadata": {},
   "outputs": [
    {
     "name": "stdin",
     "output_type": "stream",
     "text": [
      "Number 5\n"
     ]
    },
    {
     "name": "stdout",
     "output_type": "stream",
     "text": [
      "625\n"
     ]
    }
   ],
   "source": [
    "#WAP to print sum of square of natural number\n",
    "#WAP to print sum of cube of natural number\n",
    "\n",
    "n=int(input('Number'))\n",
    "i=1\n",
    "sum=0\n",
    "while (i<=n):\n",
    "    sum=sum+n*n*n\n",
    "    i=i+1\n",
    "print(sum)"
   ]
  },
  {
   "cell_type": "code",
   "execution_count": 31,
   "id": "2bcf9477-d4fc-406a-958c-8e11d5a55da4",
   "metadata": {},
   "outputs": [
    {
     "name": "stdout",
     "output_type": "stream",
     "text": [
      "2\n",
      "4\n",
      "5\n",
      "6\n",
      "8\n",
      "9\n",
      "10\n",
      "11\n"
     ]
    }
   ],
   "source": [
    "i=1\n",
    "while i<=10:\n",
    "   i=i+1\n",
    "   if i==3:\n",
    "       continue\n",
    "       \n",
    "   if i==7:\n",
    "        continue\n",
    "        \n",
    "   print(i)\n",
    "   "
   ]
  },
  {
   "cell_type": "code",
   "execution_count": 1,
   "id": "d794037a-adb3-4fd0-9e99-06bc1a8f13c4",
   "metadata": {},
   "outputs": [
    {
     "name": "stdout",
     "output_type": "stream",
     "text": [
      "a\n",
      "b\n",
      "c\n",
      "d\n",
      "e\n",
      "f\n"
     ]
    }
   ],
   "source": [
    "#0A for loop is sused for iterating over a sequence\n",
    "#(that is either a list , a tuple , a dictionary or a string.)\n",
    "\n",
    "L1 = ['a','b','c','d','e','f']\n",
    "for x in L1:\n",
    "    print(x)\n"
   ]
  },
  {
   "cell_type": "code",
   "execution_count": 5,
   "id": "208216ad-f8e3-41ca-a5ee-5ebde97a0d3c",
   "metadata": {},
   "outputs": [
    {
     "name": "stdout",
     "output_type": "stream",
     "text": [
      "A\n",
      "A\n",
      "F\n",
      "T\n"
     ]
    }
   ],
   "source": [
    "for x in \"AAFT\":\n",
    "    print(x)"
   ]
  },
  {
   "cell_type": "code",
   "execution_count": 7,
   "id": "01eb4283-b446-4b42-8e73-c613e792a1a7",
   "metadata": {},
   "outputs": [
    {
     "name": "stdout",
     "output_type": "stream",
     "text": [
      "A\n",
      "B\n"
     ]
    }
   ],
   "source": [
    "#break statement\n",
    "#Exit the loop when x is 'B'\n",
    "\n",
    "L1=['A','B','C','D']\n",
    "for x in L1:\n",
    "    print(x)\n",
    "    if x == 'B':\n",
    "        break\n",
    "        \n"
   ]
  },
  {
   "cell_type": "code",
   "execution_count": 11,
   "id": "746d562f-3716-4b4a-b694-3b6b8de20433",
   "metadata": {},
   "outputs": [
    {
     "name": "stdout",
     "output_type": "stream",
     "text": [
      "A\n"
     ]
    }
   ],
   "source": [
    "L1=['A','B','C','D']\n",
    "for x in L1:\n",
    "    if x == 'B':\n",
    "        break\n",
    "    print(x)"
   ]
  },
  {
   "cell_type": "code",
   "execution_count": 15,
   "id": "c90c5c31-fe4a-434c-b260-45fc823b8e59",
   "metadata": {},
   "outputs": [
    {
     "name": "stdout",
     "output_type": "stream",
     "text": [
      "A\n",
      "C\n",
      "D\n"
     ]
    }
   ],
   "source": [
    "#Continue Statementl\n",
    "L1=['A','B','C','D']\n",
    "for x in L1:\n",
    "    if x == 'B':\n",
    "        continue\n",
    "    print(x)\n",
    "    \n"
   ]
  },
  {
   "cell_type": "code",
   "execution_count": 17,
   "id": "a6c40427-5ef0-4bc5-aba6-3fada859b77d",
   "metadata": {},
   "outputs": [
    {
     "name": "stdout",
     "output_type": "stream",
     "text": [
      "2\n",
      "3\n",
      "4\n",
      "5\n",
      "6\n",
      "7\n",
      "8\n",
      "9\n",
      "10\n",
      "11\n"
     ]
    }
   ],
   "source": [
    "#Range() Function\n",
    "for x in range(2,12):\n",
    "    print(x)"
   ]
  },
  {
   "cell_type": "code",
   "execution_count": 19,
   "id": "8f8abc6e-5d16-4ae4-a5c4-8a024e393356",
   "metadata": {},
   "outputs": [
    {
     "name": "stdout",
     "output_type": "stream",
     "text": [
      "0\n",
      "5\n",
      "10\n",
      "15\n",
      "20\n",
      "25\n",
      "30\n",
      "35\n",
      "40\n",
      "45\n",
      "50\n"
     ]
    }
   ],
   "source": [
    "for x in range(0,51,5):\n",
    "    print(x)"
   ]
  },
  {
   "cell_type": "code",
   "execution_count": 27,
   "id": "1438ba06-32d9-4467-a8c4-1d3ec61dedcb",
   "metadata": {},
   "outputs": [
    {
     "name": "stdout",
     "output_type": "stream",
     "text": [
      "1 a\n",
      "1 b\n",
      "1 c\n",
      "1 d\n",
      "2 a\n",
      "2 b\n",
      "2 c\n",
      "2 d\n",
      "3 a\n",
      "3 b\n",
      "3 c\n",
      "3 d\n"
     ]
    }
   ],
   "source": [
    "#Nested For Loops\n",
    "L2=[1,2,3]\n",
    "L1=['a','b','c','d']\n",
    "for x in L2:\n",
    "    for y in L1: \n",
    "        print(x,y)"
   ]
  },
  {
   "cell_type": "code",
   "execution_count": 29,
   "id": "73961f2d-be6c-4f08-8748-4305e8605532",
   "metadata": {},
   "outputs": [],
   "source": [
    "#pass statemnt : for loops cannot be empty\n",
    "#but if you for some reason have a for loop with no content'\n",
    "#put in the pass statement to avoid getting an error.\n",
    "for x in [0,1,2]:\n",
    "    pass"
   ]
  },
  {
   "cell_type": "code",
   "execution_count": null,
   "id": "f939b718-5a23-4e9d-9018-96716d4f7595",
   "metadata": {},
   "outputs": [],
   "source": []
  }
 ],
 "metadata": {
  "kernelspec": {
   "display_name": "Python 3 (ipykernel)",
   "language": "python",
   "name": "python3"
  },
  "language_info": {
   "codemirror_mode": {
    "name": "ipython",
    "version": 3
   },
   "file_extension": ".py",
   "mimetype": "text/x-python",
   "name": "python",
   "nbconvert_exporter": "python",
   "pygments_lexer": "ipython3",
   "version": "3.12.4"
  }
 },
 "nbformat": 4,
 "nbformat_minor": 5
}
