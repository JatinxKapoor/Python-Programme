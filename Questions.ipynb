{
 "cells": [
  {
   "cell_type": "code",
   "execution_count": 1,
   "id": "7814c218-c89b-4cac-a1c8-ddb0f9d007fb",
   "metadata": {},
   "outputs": [
    {
     "name": "stdout",
     "output_type": "stream",
     "text": [
      "[8, 2, 3, 4, 5, 6, 7, 1]\n"
     ]
    }
   ],
   "source": [
    "#Write a Program to interchange first and last elements in a list \n",
    "\n",
    "List=[1,2,3,4,5,6,7,8]\n",
    "List[0],List[-1]=List[-1],List[0]\n",
    "print(List)"
   ]
  },
  {
   "cell_type": "code",
   "execution_count": 5,
   "id": "2fb8db65-98af-49aa-89dc-e438e684d18a",
   "metadata": {},
   "outputs": [
    {
     "name": "stdout",
     "output_type": "stream",
     "text": [
      "[1, 2, 6, 4, 5, 3, 7, 8]\n"
     ]
    }
   ],
   "source": [
    "#  2.   Program to swap two elements in a list\n",
    "\n",
    "List=[1,2,3,4,5,6,7,8]\n",
    "pos=2\n",
    "pos1=5\n",
    "List[pos],List[pos1]=List[pos1],List[pos]\n",
    "print(List)"
   ]
  },
  {
   "cell_type": "code",
   "execution_count": 19,
   "id": "8a0b52ad-e3e5-4b11-8663-7e51f16e28c8",
   "metadata": {},
   "outputs": [
    {
     "name": "stdout",
     "output_type": "stream",
     "text": [
      "9\n"
     ]
    }
   ],
   "source": [
    "# 4. Ways to find length of list\n",
    "\n",
    "L=['a','b','c',1,2,3,4,5,6]\n",
    "print(len(L))"
   ]
  },
  {
   "cell_type": "code",
   "execution_count": 21,
   "id": "0eda9f2e-f357-4a8c-b78c-204a86b7db53",
   "metadata": {},
   "outputs": [
    {
     "name": "stdout",
     "output_type": "stream",
     "text": [
      "Maximum of two numbers is:  14\n"
     ]
    }
   ],
   "source": [
    "#5. Maximum of two numbers in Python\n",
    "\n",
    "def max_of_two(x, y):\n",
    "  if x > y:\n",
    "    return x\n",
    "  return y\n",
    "num1 = 10\n",
    "num2 = 14\n",
    "print(\"Maximum of two numbers is: \", max_of_two(num1, num2))\n",
    "\n"
   ]
  },
  {
   "cell_type": "code",
   "execution_count": 25,
   "id": "8139b46f-276c-4afb-a43b-b870deabbd5c",
   "metadata": {},
   "outputs": [
    {
     "name": "stdout",
     "output_type": "stream",
     "text": [
      "Minimum of two numbers is:  10\n"
     ]
    }
   ],
   "source": [
    "#6. MINIMUM of two numbers in Python\n",
    "\n",
    "def min_of_two(x, y):\n",
    "  if x < y:\n",
    "    return x\n",
    "  return y\n",
    "num1 = 10\n",
    "num2 = 14\n",
    "print(\"Minimum of two numbers is: \", min_of_two(num1, num2))\n"
   ]
  },
  {
   "cell_type": "code",
   "execution_count": 33,
   "id": "00fd001d-2974-4ee8-92a4-7c5d8d1bb8af",
   "metadata": {},
   "outputs": [
    {
     "name": "stdout",
     "output_type": "stream",
     "text": [
      "True\n"
     ]
    }
   ],
   "source": [
    "# 7.    Ways to check if element exists in list\n",
    "\n",
    "L=[1,2,3,4,5,6,7]\n",
    "print(3 in L)"
   ]
  },
  {
   "cell_type": "code",
   "execution_count": 45,
   "id": "b69673f7-b995-44e4-99e5-0127c14dac47",
   "metadata": {},
   "outputs": [],
   "source": [
    "#8. Different ways to clear a list in Python\n",
    "\n",
    "L=[1,2,3,4,5,6,7]\n",
    "del L\n"
   ]
  },
  {
   "cell_type": "code",
   "execution_count": 47,
   "id": "fbfcf18e-9f71-417e-9289-bea6190c1efe",
   "metadata": {},
   "outputs": [
    {
     "name": "stdout",
     "output_type": "stream",
     "text": [
      "[1, 2, 3, 5, 6, 7]\n"
     ]
    }
   ],
   "source": [
    "L=[1,2,3,4,5,6,7]\n",
    "L.pop(3)\n",
    "print(L)"
   ]
  },
  {
   "cell_type": "code",
   "execution_count": 49,
   "id": "8e5cbf81-990b-4669-bf16-2ed7bda617d5",
   "metadata": {},
   "outputs": [
    {
     "name": "stdout",
     "output_type": "stream",
     "text": [
      "[1, 2, 3, 4, 6, 7]\n"
     ]
    }
   ],
   "source": [
    "L=[1,2,3,4,5,6,7]\n",
    "L.remove(5)\n",
    "print(L)"
   ]
  },
  {
   "cell_type": "code",
   "execution_count": 51,
   "id": "43b5cf2b-991a-435c-8410-4dd055bbbbe0",
   "metadata": {},
   "outputs": [
    {
     "name": "stdout",
     "output_type": "stream",
     "text": [
      "[8, 7, 6, 5, 4, 3, 2, 1]\n"
     ]
    }
   ],
   "source": [
    "# 9.    Reversing a List\n",
    "\n",
    "L=[1,2,3,4,5,6,7,8]\n",
    "L.sort(reverse=True)\n",
    "print(L)"
   ]
  },
  {
   "cell_type": "code",
   "execution_count": 55,
   "id": "bb8df284-8aec-4f4e-87c3-cb7008fa1566",
   "metadata": {},
   "outputs": [
    {
     "name": "stdout",
     "output_type": "stream",
     "text": [
      "[1, 2, 3, 4, 5, 6, 7, 8]\n"
     ]
    }
   ],
   "source": [
    "#10.    Cloning or Copying a list\n",
    "\n",
    "L=[1,2,3,4,5,6,7,8]\n",
    "X=list(L)\n",
    "print(X)"
   ]
  },
  {
   "cell_type": "code",
   "execution_count": 63,
   "id": "d35a12de-b973-4ba4-9df6-628ec71d74dc",
   "metadata": {},
   "outputs": [
    {
     "name": "stdout",
     "output_type": "stream",
     "text": [
      "[1, 2, 3, 4, 5, 6, 7, 8]\n"
     ]
    }
   ],
   "source": [
    "L=[1,2,3,4,5,6,7,8]\n",
    "x = L.copy()\n",
    "print(x)"
   ]
  },
  {
   "cell_type": "code",
   "execution_count": 65,
   "id": "7723268f-690e-48cd-8f93-26e35fcbcba2",
   "metadata": {},
   "outputs": [
    {
     "name": "stdout",
     "output_type": "stream",
     "text": [
      "[1, 2, 3, 4, 5, 6, 7, 8]\n"
     ]
    }
   ],
   "source": [
    "L=[1,2,3,4,5,6,7,8]\n",
    "y=L\n",
    "print(y)"
   ]
  },
  {
   "cell_type": "code",
   "execution_count": 67,
   "id": "ccb3f605-9900-4856-be23-a26c9ed5cb0c",
   "metadata": {},
   "outputs": [
    {
     "name": "stdout",
     "output_type": "stream",
     "text": [
      "[1, 2, 3, 4, 5, 6, 7, 8]\n"
     ]
    }
   ],
   "source": [
    "#Count occurrences of an element in a list\n",
    "\n",
    "L=[1,2,3,4,5,6,7,8]\n",
    "L.count(5)\n",
    "print(L)"
   ]
  },
  {
   "cell_type": "code",
   "execution_count": null,
   "id": "540088e7-e849-4ff6-8115-026a5bce4437",
   "metadata": {},
   "outputs": [],
   "source": []
  }
 ],
 "metadata": {
  "kernelspec": {
   "display_name": "Python 3 (ipykernel)",
   "language": "python",
   "name": "python3"
  },
  "language_info": {
   "codemirror_mode": {
    "name": "ipython",
    "version": 3
   },
   "file_extension": ".py",
   "mimetype": "text/x-python",
   "name": "python",
   "nbconvert_exporter": "python",
   "pygments_lexer": "ipython3",
   "version": "3.12.4"
  }
 },
 "nbformat": 4,
 "nbformat_minor": 5
}
