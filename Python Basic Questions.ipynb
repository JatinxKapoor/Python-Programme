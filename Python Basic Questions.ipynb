{
 "cells": [
  {
   "cell_type": "code",
   "execution_count": 5,
   "id": "08d890d5-467c-41f4-bd99-272193bd5baa",
   "metadata": {},
   "outputs": [
    {
     "name": "stdout",
     "output_type": "stream",
     "text": [
      "<class 'complex'>\n"
     ]
    }
   ],
   "source": [
    "a=20j\n",
    "print(type(a))"
   ]
  },
  {
   "cell_type": "code",
   "execution_count": 9,
   "id": "a895c0c6-e98a-4409-8e46-8f4dff6a0e53",
   "metadata": {},
   "outputs": [
    {
     "name": "stdout",
     "output_type": "stream",
     "text": [
      "<class 'tuple'>\n"
     ]
    }
   ],
   "source": [
    "a=(\"apple\", \"banana\", \"cherry\")\n",
    "print(type(a))\n"
   ]
  },
  {
   "cell_type": "code",
   "execution_count": 11,
   "id": "de04dc83-3cad-4ed6-b40e-03281847f7ac",
   "metadata": {},
   "outputs": [
    {
     "name": "stdout",
     "output_type": "stream",
     "text": [
      "<class 'range'>\n"
     ]
    }
   ],
   "source": [
    "a=range(6)\n",
    "print(type(a))"
   ]
  },
  {
   "cell_type": "code",
   "execution_count": 15,
   "id": "dd95df08-7e1e-4844-8f22-da137c7ba0fe",
   "metadata": {},
   "outputs": [
    {
     "name": "stdout",
     "output_type": "stream",
     "text": [
      "<class 'set'>\n"
     ]
    }
   ],
   "source": [
    "x=({\"apple\", \"banana\", \"cherry\"})\n",
    "print(type(x))"
   ]
  },
  {
   "cell_type": "code",
   "execution_count": 19,
   "id": "23bb9033-500b-47f2-ba5c-9c78901474b8",
   "metadata": {},
   "outputs": [
    {
     "name": "stdout",
     "output_type": "stream",
     "text": [
      "<class 'bool'>\n"
     ]
    }
   ],
   "source": [
    "z=True\n",
    "print(type(z))"
   ]
  },
  {
   "cell_type": "code",
   "execution_count": 1,
   "id": "891254f8-6e02-4647-8684-8558e51853fc",
   "metadata": {},
   "outputs": [
    {
     "name": "stdout",
     "output_type": "stream",
     "text": [
      "27.0\n"
     ]
    }
   ],
   "source": [
    "a=54 \n",
    "b=2\n",
    "c=a/b\n",
    "print(c)"
   ]
  },
  {
   "cell_type": "code",
   "execution_count": 3,
   "id": "d3cce669-248e-4f7b-892d-5c78f3a018d6",
   "metadata": {},
   "outputs": [
    {
     "name": "stdout",
     "output_type": "stream",
     "text": [
      "<class 'str'>\n"
     ]
    }
   ],
   "source": [
    "a=2\n",
    "b=\"AAFT\"\n",
    "print(type(b))"
   ]
  },
  {
   "cell_type": "code",
   "execution_count": 5,
   "id": "4df8ceab-0f1f-4498-99f8-c57bc6a4a0f2",
   "metadata": {},
   "outputs": [
    {
     "name": "stdout",
     "output_type": "stream",
     "text": [
      "[1, 2, 3, 4]\n"
     ]
    }
   ],
   "source": [
    "L1=[1, 2, 3, 4, 5]\n",
    "print(L1[:4])"
   ]
  },
  {
   "cell_type": "code",
   "execution_count": null,
   "id": "8b12d3e2-4a1f-4be0-89e0-0a060b3f9e32",
   "metadata": {},
   "outputs": [],
   "source": [
    "L1=1,2,3,4,5,6,7,8,\n",
    "print(L1[-6])"
   ]
  },
  {
   "cell_type": "code",
   "execution_count": null,
   "id": "739184fa-aa60-4480-8fd1-abe748462481",
   "metadata": {},
   "outputs": [],
   "source": [
    "L1=1,2,3,4,5,6,7,8,\n",
    "print(L1[-6:-3])"
   ]
  },
  {
   "cell_type": "code",
   "execution_count": null,
   "id": "c34ca9d8-9e06-421b-8f7d-60c7b8dbbd01",
   "metadata": {},
   "outputs": [],
   "source": [
    "L1=1,2,3,4,5,6,7,8,\n",
    "print(L1[-4:-2])"
   ]
  },
  {
   "cell_type": "code",
   "execution_count": null,
   "id": "051519c7-c10c-4422-89b2-ab247f459bd1",
   "metadata": {},
   "outputs": [],
   "source": [
    "L1=1,2,3,4,5,6,7,8,\n",
    "print(L1[:-1])"
   ]
  },
  {
   "cell_type": "code",
   "execution_count": null,
   "id": "58a62f85-b63f-4f9b-a1fd-fb112fa9a923",
   "metadata": {},
   "outputs": [],
   "source": [
    "L1=1,2,3,4,5,6,7,8,\n",
    "print(L1[-8:])"
   ]
  },
  {
   "cell_type": "code",
   "execution_count": null,
   "id": "72b26833-8af2-475e-b6f2-06eb7bdd0582",
   "metadata": {},
   "outputs": [],
   "source": [
    "L1=1,2,3,4,5,6,7,8,\n",
    "print(L1[-6:-3])"
   ]
  },
  {
   "cell_type": "code",
   "execution_count": null,
   "id": "a266cc0a-6feb-437f-aa68-dc1aa33ca042",
   "metadata": {},
   "outputs": [],
   "source": [
    "L1=1,2,3,4,5,6,7,8,\n",
    "print(L1[:-1])"
   ]
  },
  {
   "cell_type": "code",
   "execution_count": null,
   "id": "827284ac-eb56-4baf-831a-af042fdacae6",
   "metadata": {},
   "outputs": [],
   "source": [
    "L1=1,2,3,4,5,6,7,8,\n",
    "print(L1[-8:])"
   ]
  },
  {
   "cell_type": "code",
   "execution_count": null,
   "id": "ef6a8bcc-f628-41fb-b66b-338be9966837",
   "metadata": {},
   "outputs": [],
   "source": [
    "L5=[1,2,3,4,5,6]\n",
    "L5.clear()\n",
    "print(L5)"
   ]
  },
  {
   "cell_type": "code",
   "execution_count": null,
   "id": "8e60ed07-aaca-4a2e-ac0c-cb87292025d1",
   "metadata": {},
   "outputs": [],
   "source": [
    "L1=[\"A\",\"B\",\"C\",\"D\",\"E\",\"F\"]\n",
    "L1.pop(1)\n",
    "print(L1)"
   ]
  },
  {
   "cell_type": "code",
   "execution_count": null,
   "id": "540e0117-9ccd-4053-a54e-743c5543801e",
   "metadata": {},
   "outputs": [],
   "source": [
    "L2=[1,2,3,4,5,6,7]\n",
    "del L2[2:4]\n",
    "print(L2)"
   ]
  },
  {
   "cell_type": "code",
   "execution_count": null,
   "id": "873f0745-c8c9-4913-9d34-5895d37dd580",
   "metadata": {},
   "outputs": [],
   "source": [
    "L3=[1,2,3,4,5,6,7]\n",
    "del L3"
   ]
  },
  {
   "cell_type": "code",
   "execution_count": null,
   "id": "33696fe8-5721-48c8-88d8-227be9f5359c",
   "metadata": {},
   "outputs": [],
   "source": [
    "L4=[1,2,33,4,5,6,6]\n",
    "L4.remove(4)\n",
    "print(L4)"
   ]
  },
  {
   "cell_type": "code",
   "execution_count": null,
   "id": "47f9056f-128d-4679-8f75-c69c7263c74f",
   "metadata": {},
   "outputs": [],
   "source": [
    "L6=[\"m\",\"n\",\"b\",\"v\",\"c\",\"x\",\"z\",\"l\",\"k\",\"j\",\"h\"]\n",
    "L6.sort()\n",
    "print(L6)"
   ]
  },
  {
   "cell_type": "code",
   "execution_count": null,
   "id": "1328e01b-92db-4807-bc79-b69215b86668",
   "metadata": {},
   "outputs": [],
   "source": [
    "L7=[\"m\",\"n\",\"b\",\"v\",\"c\",\"x\",\"z\",\"l\",\"k\",\"j\",\"h\"]\n",
    "L7.sort(reverse=True)\n",
    "print(L7)"
   ]
  },
  {
   "cell_type": "code",
   "execution_count": null,
   "id": "3aa87020-b120-4913-bca6-2763a07ede99",
   "metadata": {},
   "outputs": [],
   "source": [
    "L8=[1,2,3,,4,56,7,8]\n",
    "L10 = L8.copy()"
   ]
  },
  {
   "cell_type": "code",
   "execution_count": null,
   "id": "36cc3c7a-55e0-4fe1-8054-d47029706a6d",
   "metadata": {},
   "outputs": [],
   "source": [
    "L4=[\"A\",\"B\",\"C\",\"D\"]\n",
    "L4.clear()\n",
    "print(L4)"
   ]
  },
  {
   "cell_type": "code",
   "execution_count": null,
   "id": "96a4c807-fee1-4fa8-93d7-ff91ea0fd996",
   "metadata": {},
   "outputs": [],
   "source": []
  },
  {
   "cell_type": "code",
   "execution_count": null,
   "id": "a06576ee-c854-4cec-8af2-f423b098f8b0",
   "metadata": {},
   "outputs": [],
   "source": []
  }
 ],
 "metadata": {
  "kernelspec": {
   "display_name": "Python 3 (ipykernel)",
   "language": "python",
   "name": "python3"
  },
  "language_info": {
   "codemirror_mode": {
    "name": "ipython",
    "version": 3
   },
   "file_extension": ".py",
   "mimetype": "text/x-python",
   "name": "python",
   "nbconvert_exporter": "python",
   "pygments_lexer": "ipython3",
   "version": "3.12.4"
  }
 },
 "nbformat": 4,
 "nbformat_minor": 5
}
