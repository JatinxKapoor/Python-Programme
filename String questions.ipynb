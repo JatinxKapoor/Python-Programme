{
 "cells": [
  {
   "cell_type": "code",
   "execution_count": 8,
   "id": "0d929442-35f4-4cf1-a937-678cc185226c",
   "metadata": {},
   "outputs": [
    {
     "name": "stdout",
     "output_type": "stream",
     "text": [
      "Python is a prog. lang.\n",
      "-> It is case Sensitive.\n",
      "-> It is very easy language.\n"
     ]
    }
   ],
   "source": [
    "X=\"\"\"Python is a prog. lang.\n",
    "-> It is case Sensitive.\n",
    "-> It is very easy language.\"\"\"\n",
    "print(X)"
   ]
  },
  {
   "cell_type": "code",
   "execution_count": 10,
   "id": "4631a3a6-038a-4c5f-b52b-c09045da1f36",
   "metadata": {},
   "outputs": [
    {
     "name": "stdout",
     "output_type": "stream",
     "text": [
      "Hello World\n"
     ]
    }
   ],
   "source": [
    "x=\"Hello World\"\n",
    "print(x)"
   ]
  },
  {
   "cell_type": "code",
   "execution_count": 14,
   "id": "c2d15447-0a28-4316-b898-85ea28df3d82",
   "metadata": {},
   "outputs": [
    {
     "name": "stdout",
     "output_type": "stream",
     "text": [
      "W\n"
     ]
    }
   ],
   "source": [
    "x=\"Hello, World!\"\n",
    "print(x[7])"
   ]
  },
  {
   "cell_type": "code",
   "execution_count": 16,
   "id": "2c2b49b6-742d-49ea-8eff-033cb6df8eb0",
   "metadata": {},
   "outputs": [
    {
     "name": "stdout",
     "output_type": "stream",
     "text": [
      "True\n"
     ]
    }
   ],
   "source": [
    "a=\"The best things in life are free!\"\n",
    "print(\"life are free!\" in a)"
   ]
  },
  {
   "cell_type": "code",
   "execution_count": 20,
   "id": "dc191f59-758c-4049-8534-c9c41d81d25b",
   "metadata": {},
   "outputs": [
    {
     "name": "stdout",
     "output_type": "stream",
     "text": [
      "world!\n"
     ]
    }
   ],
   "source": [
    "a=\"Hello world!\"\n",
    "print(a[6:12])"
   ]
  },
  {
   "cell_type": "code",
   "execution_count": 32,
   "id": "629fa31c-e0dc-4f87-a961-edc2fce6a3d8",
   "metadata": {},
   "outputs": [
    {
     "name": "stdout",
     "output_type": "stream",
     "text": [
      "Hello\n"
     ]
    }
   ],
   "source": [
    "a=\"Hello world\"\n",
    "print(a[:-6])"
   ]
  },
  {
   "cell_type": "code",
   "execution_count": 42,
   "id": "207fdef5-7ebf-48f2-9e18-99e5e03e572b",
   "metadata": {},
   "outputs": [
    {
     "name": "stdout",
     "output_type": "stream",
     "text": [
      "HELLO WORLD!\n"
     ]
    }
   ],
   "source": [
    "a = \"hello world!\"\n",
    "print(a.upper())"
   ]
  },
  {
   "cell_type": "code",
   "execution_count": 38,
   "id": "45e98b4f-3ac7-4625-a480-38b2dfdb10e1",
   "metadata": {},
   "outputs": [
    {
     "data": {
      "text/plain": [
       "'llo'"
      ]
     },
     "execution_count": 38,
     "metadata": {},
     "output_type": "execute_result"
    }
   ],
   "source": [
    "x=a[2:5]\n",
    "x"
   ]
  },
  {
   "cell_type": "code",
   "execution_count": 40,
   "id": "97f578d7-c960-4b0c-b6f9-f882b1dc76c8",
   "metadata": {},
   "outputs": [
    {
     "data": {
      "text/plain": [
       "'LLO'"
      ]
     },
     "execution_count": 40,
     "metadata": {},
     "output_type": "execute_result"
    }
   ],
   "source": [
    "x.upper()"
   ]
  },
  {
   "cell_type": "code",
   "execution_count": 44,
   "id": "a96f2285-588c-4809-9449-8c673203f8f6",
   "metadata": {},
   "outputs": [
    {
     "name": "stdout",
     "output_type": "stream",
     "text": [
      "Say No To World\n"
     ]
    }
   ],
   "source": [
    "a=\"Hello World\"\n",
    "print(a.replace(\"Hello\",\"Say No To\"))"
   ]
  },
  {
   "cell_type": "code",
   "execution_count": null,
   "id": "1198f735-2b60-4302-bba6-3e2513e8ed03",
   "metadata": {},
   "outputs": [],
   "source": []
  }
 ],
 "metadata": {
  "kernelspec": {
   "display_name": "Python 3 (ipykernel)",
   "language": "python",
   "name": "python3"
  },
  "language_info": {
   "codemirror_mode": {
    "name": "ipython",
    "version": 3
   },
   "file_extension": ".py",
   "mimetype": "text/x-python",
   "name": "python",
   "nbconvert_exporter": "python",
   "pygments_lexer": "ipython3",
   "version": "3.12.4"
  }
 },
 "nbformat": 4,
 "nbformat_minor": 5
}
