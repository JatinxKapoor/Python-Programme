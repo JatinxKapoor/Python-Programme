{
 "cells": [
  {
   "cell_type": "code",
   "execution_count": 1,
   "id": "151b3a0e-4aca-4731-9d20-c5525a29551d",
   "metadata": {},
   "outputs": [
    {
     "name": "stdout",
     "output_type": "stream",
     "text": [
      "b is greater than a \n"
     ]
    }
   ],
   "source": [
    "# Python supports these logical conditions from mathematics\n",
    "\n",
    "#An \"if statement\" is written by using the if keyword\n",
    "\n",
    "a=100\n",
    "b=500\n",
    "if b>a:\n",
    "    print(\"b is greater than a \")"
   ]
  },
  {
   "cell_type": "code",
   "execution_count": 1,
   "id": "66091347-d090-4aab-879a-1495bf01534c",
   "metadata": {},
   "outputs": [],
   "source": [
    "# Identation Error\n",
    "\n",
    "a=50\n",
    "b=37\n",
    "if b>a: \n",
    "    print(\"b is greater than a \")"
   ]
  },
  {
   "cell_type": "code",
   "execution_count": 9,
   "id": "bb14bf32-029d-4d00-8c80-3fc0ffe0e79e",
   "metadata": {},
   "outputs": [
    {
     "name": "stdin",
     "output_type": "stream",
     "text": [
      "Enter a number: 109976543\n"
     ]
    },
    {
     "name": "stdout",
     "output_type": "stream",
     "text": [
      "Given number is positive number\n"
     ]
    }
   ],
   "source": [
    "number = int(input('Enter a number:'))\n",
    "\n",
    "#check if number is greater than 0\n",
    "\n",
    "if number>0:\n",
    "    print(\"Given number is positive number\")"
   ]
  },
  {
   "cell_type": "code",
   "execution_count": 11,
   "id": "bebda657-311a-4e42-af67-34b3d540b09f",
   "metadata": {},
   "outputs": [
    {
     "name": "stdin",
     "output_type": "stream",
     "text": [
      "Enter a number: -98\n"
     ]
    },
    {
     "name": "stdout",
     "output_type": "stream",
     "text": [
      "Given number is negative number\n"
     ]
    }
   ],
   "source": [
    "number = int(input('Enter a number:'))\n",
    "\n",
    "#check if number is greater than 0\n",
    "\n",
    "if number>0:\n",
    "    print(\"Given number is positive number\")\n",
    "else:\n",
    "    print(\"Given number is negative number\")"
   ]
  },
  {
   "cell_type": "code",
   "execution_count": 13,
   "id": "a326f2bc-0f45-44af-8799-9b8c7fa8a2aa",
   "metadata": {},
   "outputs": [
    {
     "name": "stdin",
     "output_type": "stream",
     "text": [
      "Enter a number: 56\n"
     ]
    },
    {
     "name": "stdout",
     "output_type": "stream",
     "text": [
      "Given number is even\n"
     ]
    }
   ],
   "source": [
    "#Wap to check whether a given number is even or odd.\n",
    "\n",
    "number=int(input(\"Enter a number:\"))\n",
    "\n",
    "if number%2==0:\n",
    "    print(\"Given number is even\")\n",
    "\n",
    "else:\n",
    "    print(\"Given number is odd\")\n",
    "\n",
    "           "
   ]
  }
 ],
 "metadata": {
  "kernelspec": {
   "display_name": "Python 3 (ipykernel)",
   "language": "python",
   "name": "python3"
  },
  "language_info": {
   "codemirror_mode": {
    "name": "ipython",
    "version": 3
   },
   "file_extension": ".py",
   "mimetype": "text/x-python",
   "name": "python",
   "nbconvert_exporter": "python",
   "pygments_lexer": "ipython3",
   "version": "3.12.4"
  }
 },
 "nbformat": 4,
 "nbformat_minor": 5
}
