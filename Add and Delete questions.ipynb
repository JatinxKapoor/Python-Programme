{
 "cells": [
  {
   "cell_type": "code",
   "execution_count": 1,
   "id": "5a698109-4dd2-425e-a9c5-2a5c0cd9da90",
   "metadata": {},
   "outputs": [
    {
     "name": "stdout",
     "output_type": "stream",
     "text": [
      "Pratham\n"
     ]
    }
   ],
   "source": [
    "L1=[\"Mohit\",\"Rohit\",\"Pratham\",\"Jatin\",\"Tanishq\",\"Rajat\"]\n",
    "print(L1[2])"
   ]
  },
  {
   "cell_type": "code",
   "execution_count": 5,
   "id": "9a34e2c5-e40b-4095-9330-fc66526de740",
   "metadata": {},
   "outputs": [
    {
     "name": "stdout",
     "output_type": "stream",
     "text": [
      "['Mohit', 'Rohit', 'Pratham', 'Jatin', 'Tanishq']\n"
     ]
    }
   ],
   "source": [
    "L2=[\"Mohit\",\"Rohit\",\"Pratham\",\"Jatin\",\"Tanishq\",\"Rajat\"]\n",
    "print(L1[-6:-1])"
   ]
  },
  {
   "cell_type": "code",
   "execution_count": 7,
   "id": "60a238e2-ad12-48f7-9800-22e1e2559281",
   "metadata": {},
   "outputs": [
    {
     "name": "stdout",
     "output_type": "stream",
     "text": [
      "['Mohit', 'Rohit', 'Pratham', 'Jatin', 'Tanishq', 'Rajat', 'Mohit', 'Rohit', 'Pratham', 'Jatin', 'Tanishq', 'Rajat']\n"
     ]
    }
   ],
   "source": [
    "L3=[\"Mohit\",\"Rohit\",\"Pratham\",\"Jatin\",\"Tanishq\",\"Rajat\"]\n",
    "L4=[\"Mohit\",\"Rohit\",\"Pratham\",\"Jatin\",\"Tanishq\",\"Rajat\"]\n",
    "L3.extend(L4)\n",
    "print(L3)"
   ]
  },
  {
   "cell_type": "code",
   "execution_count": 9,
   "id": "b9a24492-13c1-4d26-8e1c-dd8b842e2156",
   "metadata": {},
   "outputs": [
    {
     "name": "stdout",
     "output_type": "stream",
     "text": [
      "['Mohit', 'Rohit', 'Pratham', 'Tanishq', 'Rajat']\n"
     ]
    }
   ],
   "source": [
    "L5=[\"Mohit\",\"Rohit\",\"Pratham\",\"Jatin\",\"Tanishq\",\"Rajat\"]\n",
    "L5.pop(3)\n",
    "print(L5)"
   ]
  },
  {
   "cell_type": "code",
   "execution_count": 11,
   "id": "5f187dc9-1e7e-4fef-831f-5b46990c9b65",
   "metadata": {},
   "outputs": [],
   "source": [
    "L6=[\"Mohit\",\"Rohit\",\"Pratham\",\"Jatin\",\"Tanishq\",\"Rajat\"]\n",
    "del L6\n",
    "\n"
   ]
  },
  {
   "cell_type": "code",
   "execution_count": 15,
   "id": "06f20491-0043-4313-a4ff-89b7c498916a",
   "metadata": {},
   "outputs": [
    {
     "name": "stdout",
     "output_type": "stream",
     "text": [
      "[]\n"
     ]
    }
   ],
   "source": [
    "L7=[\"Mohit\",\"Rohit\",\"Pratham\",\"Jatin\",\"Tanishq\",\"Rajat\"]\n",
    "L7.clear()\n",
    "print(L7)"
   ]
  },
  {
   "cell_type": "code",
   "execution_count": 17,
   "id": "f3d8585f-916a-42a2-8500-f7f4d75c4328",
   "metadata": {},
   "outputs": [
    {
     "name": "stdout",
     "output_type": "stream",
     "text": [
      "['Mohit', 'Rohit', 'Pratham', 'Jatin', 'Tanishq', 'Rajat', 'Harsh']\n"
     ]
    }
   ],
   "source": [
    "L8=[\"Mohit\",\"Rohit\",\"Pratham\",\"Jatin\",\"Tanishq\",\"Rajat\"]\n",
    "L8.append(\"Harsh\")\n",
    "print(L8)"
   ]
  },
  {
   "cell_type": "code",
   "execution_count": 21,
   "id": "07ec7b2a-5491-4b1e-a5a7-47f489b0d246",
   "metadata": {},
   "outputs": [
    {
     "name": "stdout",
     "output_type": "stream",
     "text": [
      "['Mohit', 'Rohit', 'Harsh', 'Pratham', 'Jatin', 'Tanishq', 'Rajat']\n"
     ]
    }
   ],
   "source": [
    "L9=[\"Mohit\",\"Rohit\",\"Pratham\",\"Jatin\",\"Tanishq\",\"Rajat\"]\n",
    "L9.insert(2,\"Harsh\")\n",
    "print(L9)"
   ]
  },
  {
   "cell_type": "code",
   "execution_count": 23,
   "id": "dfa795e1-541d-4107-8054-c2542e3dab06",
   "metadata": {},
   "outputs": [
    {
     "name": "stdout",
     "output_type": "stream",
     "text": [
      "['Jatin', 'Mohit', 'Pratham', 'Rajat', 'Rohit', 'Tanishq']\n"
     ]
    }
   ],
   "source": [
    "L10=[\"Mohit\",\"Rohit\",\"Pratham\",\"Jatin\",\"Tanishq\",\"Rajat\"]\n",
    "L10.sort()\n",
    "print(L10)"
   ]
  },
  {
   "cell_type": "code",
   "execution_count": 27,
   "id": "36d9fa40-962e-4482-b0c0-07ef92dacb51",
   "metadata": {},
   "outputs": [
    {
     "name": "stdout",
     "output_type": "stream",
     "text": [
      "['Tanishq', 'Rohit', 'Rajat', 'Pratham', 'Mohit', 'Jatin']\n"
     ]
    }
   ],
   "source": [
    "L11=[\"Mohit\",\"Rohit\",\"Pratham\",\"Jatin\",\"Tanishq\",\"Rajat\"]\n",
    "L11.sort(reverse=True)\n",
    "print(L11)"
   ]
  },
  {
   "cell_type": "code",
   "execution_count": 39,
   "id": "24c5bbfb-81f8-4ffc-8c3b-ed40a890b20b",
   "metadata": {},
   "outputs": [
    {
     "name": "stdout",
     "output_type": "stream",
     "text": [
      "['Mohit', 'Rohit', 'Pratham', 'Jatin', 'Tanishq', 'Rajat']\n"
     ]
    }
   ],
   "source": [
    "L12=[\"Mohit\",\"Rohit\",\"Pratham\",\"Jatin\",\"Tanishq\",\"Rajat\"]\n",
    "L13 = L12.copy()\n",
    "print(L13)"
   ]
  },
  {
   "cell_type": "code",
   "execution_count": 45,
   "id": "6cce289e-616b-4ab5-a681-3b2b6df313c7",
   "metadata": {},
   "outputs": [
    {
     "name": "stdout",
     "output_type": "stream",
     "text": [
      "['Mohit', 'Rohit', 'Pratham', 'Jatin', 'Tanishq', 'Rajat']\n"
     ]
    }
   ],
   "source": [
    "L14=[\"Mohit\",\"Rohit\",\"Pratham\",\"Jatin\",\"Tanishq\",\"Rajat\"]\n",
    "L14.index(\"Rajat\")\n",
    "print(L14)"
   ]
  },
  {
   "cell_type": "code",
   "execution_count": 49,
   "id": "1a8ca318-7101-4a2e-a161-4bf2a25cad4c",
   "metadata": {},
   "outputs": [
    {
     "name": "stdout",
     "output_type": "stream",
     "text": [
      "['Mohit', 'Rohit', 'Pratham', 'Jatin', 'Mohit', 'Tanishq', 'Rajat']\n"
     ]
    }
   ],
   "source": [
    "L15=[\"Mohit\",\"Rohit\",\"Pratham\",\"Jatin\",\"Mohit\",\"Tanishq\",\"Rajat\"]\n",
    "L15.count(\"Jatin\")\n",
    "print(L15)"
   ]
  },
  {
   "cell_type": "code",
   "execution_count": null,
   "id": "b68c5264-6990-41d2-9205-a052e1bd32e6",
   "metadata": {},
   "outputs": [],
   "source": []
  }
 ],
 "metadata": {
  "kernelspec": {
   "display_name": "Python 3 (ipykernel)",
   "language": "python",
   "name": "python3"
  },
  "language_info": {
   "codemirror_mode": {
    "name": "ipython",
    "version": 3
   },
   "file_extension": ".py",
   "mimetype": "text/x-python",
   "name": "python",
   "nbconvert_exporter": "python",
   "pygments_lexer": "ipython3",
   "version": "3.12.4"
  }
 },
 "nbformat": 4,
 "nbformat_minor": 5
}
